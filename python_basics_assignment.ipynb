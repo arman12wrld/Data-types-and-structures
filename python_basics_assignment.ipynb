{
  "nbformat": 4,
  "nbformat_minor": 0,
  "metadata": {
    "colab": {
      "provenance": []
    },
    "kernelspec": {
      "name": "python3",
      "display_name": "Python 3"
    },
    "language_info": {
      "name": "python"
    }
  },
  "cells": [
    {
      "cell_type": "markdown",
      "source": [],
      "metadata": {
        "id": "RjzB0-g8z3MU"
      }
    },
    {
      "cell_type": "markdown",
      "source": [
        "# data type and structure questions and their answers\n",
        "\n",
        "\n",
        "\n",
        "Yes, lists can store elements of different\n",
        "data types.\n",
        "\n",
        "\n",
        "\n",
        "1. What are data types, and why are they iumportant?\n",
        "   - data structures are ways to organize and store data efficiently. they are important for optimizing performance in data manipulation and analysis\n",
        "\n",
        "2. Explain the difference between mutable and immutable data types with examples.\n",
        "   - mutablale data types like lists and dictionaries can be modified after creation, while immutable data types like strings and tuples cannot be changed once created.\n",
        "\n",
        "3. What are the main differences between lists and tuples in python?\n",
        "   - lists are mutable, dynamic and slower than tuples, while tuples are immutable, static and faster.\n",
        "\n",
        "4. Describe how dictionaries store data?\n",
        "  - dictionaries store data as key value pairs that makes it easier to access and retrieve specific data based on its key.\n",
        "\n",
        "5. Why might you use a set instead of a list in python?\n",
        "   - set stores unique elements and provide fast membership testing.\n",
        "\n",
        "6. What is string in python, and how is it different from a list?\n",
        "   - strings are immutable sequences of characters, while lists are mutable sequences of objects.\n",
        "\n",
        "7. How do tuples ensure data integrity in python?\n",
        "   - tuples are immutable and prevent data from modification and protect the data as it was satored.\n",
        "\n",
        "8. What is hash table and how does it relate to dictionaries in python?\n",
        "   - hash table is a data structure that          maps keys to values using a hash\n",
        "function. Python dictionaries use hash tables for efficient key-value storage.\n",
        "\n",
        "9. Can lists contain different data types in Python?\n",
        "   \n",
        " - Yes, lists can store elements of different\n",
        "data types.\n",
        "\n",
        "10. Explain why strings are immutable in Python.\n",
        "   - Strings are immutable to ensure memory\n",
        "  efficiency and security in Python.\n",
        "\n",
        "\n",
        "11. What advantages do dictionaries offer over lists for\n",
        "certain tasks?\n",
        "   - Dictionaries allow faster lookups using\n",
        "keys, whereas lists require linear searches.\n",
        "\n",
        "\n",
        "12. Describe a scenario where using a tuple would be\n",
        "preferable over a list.\n",
        "   - When storing fixed data, like coordinates\n",
        "or database records, where immutability is required.\n",
        "\n",
        "\n",
        "13. How do sets handle duplicate values in Python?\n",
        "   - Sets automatically remove duplicate values.\n",
        "\n",
        "\n",
        "14. How does the 'in' keyword work differently for lists\n",
        "and dictionaries?\n",
        "   - In lists, 'in' checks for presence by\n",
        "scanning all elements, whereas in dictionaries, it checks for the presence of\n",
        "keys using a hash table.\n",
        "\n",
        "\n",
        "15. Can you modify the elements of a tuple? Explain why or\n",
        "why not.\n",
        "   - No, tuples are immutable, meaning elements\n",
        "cannot be changed after creation.\n",
        "\n",
        "\n",
        "16. What is a nested dictionary, and give an example of\n",
        "its use case?\n",
        "   - A nested dictionary is a dictionary within\n",
        "a dictionary, useful for hierarchical data like JSON structures.\n",
        "\n",
        "\n",
        "17. Describe the time complexity of accessing elements in\n",
        "a dictionary.\n",
        "   - Accessing elements in a dictionary has an\n",
        "average time complexity of O(1) due to hashing.\n",
        "\n",
        "\n",
        "18. In what situations are lists preferred over\n",
        "dictionaries?\n",
        "   - Lists are preferred when maintaining order\n",
        "and storing sequential data.\n",
        "\n",
        "\n",
        "19. Why are dictionaries considered unordered, and how\n",
        "does that affect data retrieval?\n",
        "   - Dictionaries before Python 3.7 were\n",
        "unordered, meaning elements had no fixed order. Since Python 3.7, they maintain\n",
        "insertion order but still use hashing for fast lookups.\n",
        "\n",
        "\n",
        "20. Explain the difference between a list and a dictionary\n",
        "in terms of data retrieval.\n",
        "   - Lists use index-based retrieval, whereas\n",
        "dictionaries use key-based retrieval, which is faster."
      ],
      "metadata": {
        "id": "ZWkOLQLmvQej"
      }
    },
    {
      "cell_type": "code",
      "execution_count": null,
      "metadata": {
        "id": "0-I2m0vtM2cV",
        "colab": {
          "base_uri": "https://localhost:8080/"
        },
        "outputId": "5d616f2a-7f59-484a-b60b-e852d69f52c1"
      },
      "outputs": [
        {
          "output_type": "stream",
          "name": "stdout",
          "text": [
            "arman khan\n"
          ]
        }
      ],
      "source": [
        "# 1. write a code to create a string with your name and print it.\n",
        "\n",
        "name = \"arman khan\"\n",
        "print(name)"
      ]
    },
    {
      "cell_type": "code",
      "source": [
        "# 2. write a code to find the length of the string \"hello world\"\n",
        "\n",
        "string = \"hello world\"\n",
        "length = len(string)\n",
        "print(length)"
      ],
      "metadata": {
        "colab": {
          "base_uri": "https://localhost:8080/"
        },
        "id": "B20V3Iqh4K9k",
        "outputId": "1bd6f555-a4f6-47d2-e43a-cd97da077410"
      },
      "execution_count": null,
      "outputs": [
        {
          "output_type": "stream",
          "name": "stdout",
          "text": [
            "11\n"
          ]
        }
      ]
    },
    {
      "cell_type": "code",
      "source": [
        "# 3.Write a code to slice the first 3 characters from the string \"Python Programming\"\n",
        "\n",
        "a = \"hello world\"\n",
        "a[0:3]"
      ],
      "metadata": {
        "id": "NPaF81Jq4u56",
        "colab": {
          "base_uri": "https://localhost:8080/",
          "height": 35
        },
        "outputId": "28090952-0a37-4767-8cd6-eea22ff7e185"
      },
      "execution_count": null,
      "outputs": [
        {
          "output_type": "execute_result",
          "data": {
            "text/plain": [
              "'hel'"
            ],
            "application/vnd.google.colaboratory.intrinsic+json": {
              "type": "string"
            }
          },
          "metadata": {},
          "execution_count": 131
        }
      ]
    },
    {
      "cell_type": "code",
      "source": [
        "# 4. Write a code to convert the string \"hello\" to uppercaseP\n",
        "\n",
        "b = \"hello\"\n",
        "b.upper()"
      ],
      "metadata": {
        "id": "qze95wyg4xT4",
        "colab": {
          "base_uri": "https://localhost:8080/",
          "height": 35
        },
        "outputId": "5d40bc5e-f30e-4042-fa92-1151a80dc960"
      },
      "execution_count": null,
      "outputs": [
        {
          "output_type": "execute_result",
          "data": {
            "text/plain": [
              "'HELLO'"
            ],
            "application/vnd.google.colaboratory.intrinsic+json": {
              "type": "string"
            }
          },
          "metadata": {},
          "execution_count": 132
        }
      ]
    },
    {
      "cell_type": "code",
      "source": [
        "# 5. Write a code to replace the word \"apple\" with \"orange\" in the string \"I like apple\"\n",
        "\n",
        "c = \" i like apple\"\n",
        "c.replace(\"apple\", \"orange\")"
      ],
      "metadata": {
        "id": "IAXhr1xM4xRR",
        "colab": {
          "base_uri": "https://localhost:8080/",
          "height": 35
        },
        "outputId": "08491738-9233-47ad-b9fd-f0c7b5d2bf47"
      },
      "execution_count": null,
      "outputs": [
        {
          "output_type": "execute_result",
          "data": {
            "text/plain": [
              "' i like orange'"
            ],
            "application/vnd.google.colaboratory.intrinsic+json": {
              "type": "string"
            }
          },
          "metadata": {},
          "execution_count": 133
        }
      ]
    },
    {
      "cell_type": "code",
      "source": [
        "# 6. Write a code to create a list with numbers 1 to 5 and print it\n",
        "\n",
        "d = [1, 2, 3, 4, 5]\n",
        "print(d)"
      ],
      "metadata": {
        "id": "288sf7Ob4xOq",
        "colab": {
          "base_uri": "https://localhost:8080/"
        },
        "outputId": "59841a2c-d17a-4ea1-d9dc-4bf1724ea23f"
      },
      "execution_count": null,
      "outputs": [
        {
          "output_type": "stream",
          "name": "stdout",
          "text": [
            "[1, 2, 3, 4, 5]\n"
          ]
        }
      ]
    },
    {
      "cell_type": "code",
      "source": [
        "# 7. Write a code to append the number 10 to the list [1, 2, 3, 4]\n",
        "\n",
        "list = [1, 2, 3, 4]\n",
        "list.append(10)\n",
        "print(list)"
      ],
      "metadata": {
        "id": "B6RSd5xB4xMB",
        "colab": {
          "base_uri": "https://localhost:8080/"
        },
        "outputId": "2c87ef5b-b1d8-469a-92d3-096268cd8056"
      },
      "execution_count": null,
      "outputs": [
        {
          "output_type": "stream",
          "name": "stdout",
          "text": [
            "[1, 2, 3, 4, 10]\n"
          ]
        }
      ]
    },
    {
      "cell_type": "code",
      "source": [
        "# 8. Write a code to remove the number 3 from the list [1, 2, 3, 4, 5]\n",
        "\n",
        "list = [1, 2, 3, 4,5]\n",
        "list.remove(3)\n",
        "print(list)"
      ],
      "metadata": {
        "id": "u5W4eZjd4xJB",
        "colab": {
          "base_uri": "https://localhost:8080/"
        },
        "outputId": "4e581940-b905-4d60-c64d-a91e2c2de406"
      },
      "execution_count": null,
      "outputs": [
        {
          "output_type": "stream",
          "name": "stdout",
          "text": [
            "[1, 2, 4, 5]\n"
          ]
        }
      ]
    },
    {
      "cell_type": "code",
      "source": [
        "# 9. Write a code to access the second element in the list ['a', 'b', 'c', 'd']\n",
        "\n",
        "list = ['a', 'b', 'c', 'd']\n",
        "list[1]"
      ],
      "metadata": {
        "id": "dG2t4-Bc4wXZ",
        "colab": {
          "base_uri": "https://localhost:8080/",
          "height": 35
        },
        "outputId": "6c90b316-8ee9-4899-8198-83f9bc8c0b2c"
      },
      "execution_count": null,
      "outputs": [
        {
          "output_type": "execute_result",
          "data": {
            "text/plain": [
              "'b'"
            ],
            "application/vnd.google.colaboratory.intrinsic+json": {
              "type": "string"
            }
          },
          "metadata": {},
          "execution_count": 137
        }
      ]
    },
    {
      "cell_type": "code",
      "source": [
        "# 10. Write a code to reverse the list [10, 20, 30, 40, 50].\n",
        "list = [10, 20, 30, 40, 50]\n",
        "list.reverse()\n",
        "print(list)"
      ],
      "metadata": {
        "id": "RbaNvl-74wUZ",
        "colab": {
          "base_uri": "https://localhost:8080/"
        },
        "outputId": "ebfa9cbe-ed92-4b87-a66a-f259e0332a51"
      },
      "execution_count": null,
      "outputs": [
        {
          "output_type": "stream",
          "name": "stdout",
          "text": [
            "[50, 40, 30, 20, 10]\n"
          ]
        }
      ]
    },
    {
      "cell_type": "code",
      "source": [
        "# 11. Write a code to create a tuple with the elements 100, 200, 300 and print it.\n",
        "\n",
        "T = (100, 200, 300)\n",
        "print(T)\n",
        "type(T)"
      ],
      "metadata": {
        "id": "kuSjHQ-o4wRh",
        "colab": {
          "base_uri": "https://localhost:8080/"
        },
        "outputId": "21f6fe91-b117-41dd-ddfc-4e9cb3bc0e49"
      },
      "execution_count": null,
      "outputs": [
        {
          "output_type": "stream",
          "name": "stdout",
          "text": [
            "(100, 200, 300)\n"
          ]
        },
        {
          "output_type": "execute_result",
          "data": {
            "text/plain": [
              "tuple"
            ]
          },
          "metadata": {},
          "execution_count": 139
        }
      ]
    },
    {
      "cell_type": "code",
      "source": [
        "# 12.Write a code to access the second-to-last element of the tuple ('red', 'green', 'blue', 'yellow').\n",
        "\n",
        "Tup = ('red', 'green', 'blue', 'yellow')\n",
        "Tupl = Tup[-2:]\n",
        "print(Tupl)"
      ],
      "metadata": {
        "id": "QeIyg5Is4wOw",
        "colab": {
          "base_uri": "https://localhost:8080/"
        },
        "outputId": "b61ff0a0-46d8-49c6-f770-b00614edf25c"
      },
      "execution_count": null,
      "outputs": [
        {
          "output_type": "stream",
          "name": "stdout",
          "text": [
            "('blue', 'yellow')\n"
          ]
        }
      ]
    },
    {
      "cell_type": "code",
      "source": [
        "# 13. Write a code to find the minimum number in the tuple (10, 20, 5, 15).\n",
        "\n",
        "Number = (10, 20, 5, 15)\n",
        "min(Number)"
      ],
      "metadata": {
        "id": "ez4wMpqS4wLh",
        "colab": {
          "base_uri": "https://localhost:8080/"
        },
        "outputId": "d6b0e546-bbe2-40d4-9d0f-5a1363054247"
      },
      "execution_count": null,
      "outputs": [
        {
          "output_type": "execute_result",
          "data": {
            "text/plain": [
              "5"
            ]
          },
          "metadata": {},
          "execution_count": 141
        }
      ]
    },
    {
      "cell_type": "code",
      "source": [
        "# 14. Write a code to find the index of the element \"cat\" in the tuple ('dog', 'cat', 'rabbit').\n",
        "\n",
        "animal = (\"dog\", \"cat\", \"Rabbit\")\n",
        "animal.index('cat')"
      ],
      "metadata": {
        "colab": {
          "base_uri": "https://localhost:8080/"
        },
        "id": "Lf5i-dOgHVW0",
        "outputId": "4f791272-1dbf-4435-adfd-7753045ac75a"
      },
      "execution_count": null,
      "outputs": [
        {
          "output_type": "execute_result",
          "data": {
            "text/plain": [
              "1"
            ]
          },
          "metadata": {},
          "execution_count": 142
        }
      ]
    },
    {
      "cell_type": "code",
      "source": [
        "# 15. Write a code to create a tuple containing three different fruits and check if \"kiwi\" is in it.\n",
        "\n",
        "Fruits = (\"apple\", \"babana\", \"kiwi\")\n",
        "if \"kiwi\" in Fruits:\n",
        "   print(\"kiwi is in it!\")"
      ],
      "metadata": {
        "colab": {
          "base_uri": "https://localhost:8080/"
        },
        "id": "kFavUwQxHWiO",
        "outputId": "57e35a27-9d96-47f8-9db8-24e1644248d8"
      },
      "execution_count": null,
      "outputs": [
        {
          "output_type": "stream",
          "name": "stdout",
          "text": [
            "kiwi is in it!\n"
          ]
        }
      ]
    },
    {
      "cell_type": "code",
      "source": [
        "# 16. Write a code to create a set with the elements 'a', 'b', 'c' and print it.\n",
        "\n",
        "Alp ={'a', 'b', 'c'}\n",
        "type(Alp)"
      ],
      "metadata": {
        "colab": {
          "base_uri": "https://localhost:8080/"
        },
        "id": "kD7hihU9HWos",
        "outputId": "04eb25d0-caea-42e4-935c-df1510bf326c"
      },
      "execution_count": null,
      "outputs": [
        {
          "output_type": "execute_result",
          "data": {
            "text/plain": [
              "set"
            ]
          },
          "metadata": {},
          "execution_count": 144
        }
      ]
    },
    {
      "cell_type": "code",
      "source": [
        "# 17. Write a code to clear all elements from the set {1, 2, 3, 4, 5}.\n",
        "\n",
        "num = {1, 2, 3, 4, 5}\n",
        "num.clear()\n",
        "num"
      ],
      "metadata": {
        "colab": {
          "base_uri": "https://localhost:8080/"
        },
        "id": "imh8j6l7HWus",
        "outputId": "3724f595-907e-4184-b29f-ce34f8db3588"
      },
      "execution_count": null,
      "outputs": [
        {
          "output_type": "execute_result",
          "data": {
            "text/plain": [
              "set()"
            ]
          },
          "metadata": {},
          "execution_count": 145
        }
      ]
    },
    {
      "cell_type": "code",
      "source": [
        "# 18. Write a code to remove the element 4 from the set {1, 2, 3, 4}\n",
        "\n",
        "num = {1, 2, 3, 4}\n",
        "num.remove(4)\n",
        "num"
      ],
      "metadata": {
        "colab": {
          "base_uri": "https://localhost:8080/"
        },
        "id": "SmSH-7jvHW0r",
        "outputId": "31319aa3-ae57-492a-92e4-714dd954ab47"
      },
      "execution_count": null,
      "outputs": [
        {
          "output_type": "execute_result",
          "data": {
            "text/plain": [
              "{1, 2, 3}"
            ]
          },
          "metadata": {},
          "execution_count": 146
        }
      ]
    },
    {
      "cell_type": "code",
      "source": [
        "# 19. Write a code to find the union of two sets {1, 2, 3} and {3, 4, 5}.\n",
        "Num1 = {1, 2, 3}\n",
        "Num2 = {3, 4, 5}\n",
        "Num1 | Num2"
      ],
      "metadata": {
        "colab": {
          "base_uri": "https://localhost:8080/"
        },
        "id": "4W964ushHXBQ",
        "outputId": "bf7dfa6c-172c-47e0-955b-b4de2d647bdf"
      },
      "execution_count": null,
      "outputs": [
        {
          "output_type": "execute_result",
          "data": {
            "text/plain": [
              "{1, 2, 3, 4, 5}"
            ]
          },
          "metadata": {},
          "execution_count": 147
        }
      ]
    },
    {
      "cell_type": "code",
      "source": [
        "# 20. Write a code to find the intersection of two sets {1, 2, 3} and {2, 3, 4}.\n",
        "\n",
        "num1 = {1, 2, 3}\n",
        "num2 = {3, 4, 5}\n",
        "num1 & num2"
      ],
      "metadata": {
        "colab": {
          "base_uri": "https://localhost:8080/"
        },
        "id": "eiykr059HXHP",
        "outputId": "87d18d12-0a26-4f4b-aaeb-6c987be9d3ca"
      },
      "execution_count": null,
      "outputs": [
        {
          "output_type": "execute_result",
          "data": {
            "text/plain": [
              "{3}"
            ]
          },
          "metadata": {},
          "execution_count": 148
        }
      ]
    },
    {
      "cell_type": "code",
      "source": [
        "# 21. Write a code to create a dictionary with the keys \"name\", \"age\", and \"city\", and print it.\n",
        "\n",
        "Info = {\"name\" :\"arman\", \"age\" : 22, \"city\" : \"hindaun city\"}\n",
        "print(Info)\n",
        "type(Info)"
      ],
      "metadata": {
        "colab": {
          "base_uri": "https://localhost:8080/"
        },
        "id": "y_fTMlRpHXMi",
        "outputId": "2fb38bfe-c778-41da-b339-88fd294d6676"
      },
      "execution_count": null,
      "outputs": [
        {
          "output_type": "stream",
          "name": "stdout",
          "text": [
            "{'name': 'arman', 'age': 22, 'city': 'hindaun city'}\n"
          ]
        },
        {
          "output_type": "execute_result",
          "data": {
            "text/plain": [
              "dict"
            ]
          },
          "metadata": {},
          "execution_count": 149
        }
      ]
    },
    {
      "cell_type": "code",
      "source": [
        "# 22. Write a code to add a new key-value pair \"country\": \"USA\" to the dictionary {'name': 'John', 'age': 25}.\n",
        "\n",
        "person = {'name': 'John', 'age': 25}\n",
        "person[\"country\"] = \"usa\"\n",
        "person"
      ],
      "metadata": {
        "colab": {
          "base_uri": "https://localhost:8080/"
        },
        "id": "OeuS9gx6HXSU",
        "outputId": "4a46efc1-c2d4-474c-ea1f-18e917f9ab21"
      },
      "execution_count": null,
      "outputs": [
        {
          "output_type": "execute_result",
          "data": {
            "text/plain": [
              "{'name': 'John', 'age': 25, 'country': 'usa'}"
            ]
          },
          "metadata": {},
          "execution_count": 150
        }
      ]
    },
    {
      "cell_type": "code",
      "source": [
        "# 23. Write a code to access the value associated with the key \"name\" in the dictionary {'name': 'Alice', 'age': 30}.\n",
        "\n",
        "person = {'name': 'Alice', 'age': 30}\n",
        "person[\"name\"]"
      ],
      "metadata": {
        "colab": {
          "base_uri": "https://localhost:8080/",
          "height": 35
        },
        "id": "1eR2788SHXXf",
        "outputId": "36a3150e-1d5d-4d45-b36a-12b6db391b1b"
      },
      "execution_count": null,
      "outputs": [
        {
          "output_type": "execute_result",
          "data": {
            "text/plain": [
              "'Alice'"
            ],
            "application/vnd.google.colaboratory.intrinsic+json": {
              "type": "string"
            }
          },
          "metadata": {},
          "execution_count": 151
        }
      ]
    },
    {
      "cell_type": "code",
      "source": [
        "\n",
        "\n",
        "# 24. Write a code to remove the key \"age\" from the dictionary {'name': 'Bob', 'age': 22, 'city': 'New York'}.\n",
        "\n",
        "info = {'name': 'Bob', 'age': 22, 'city' : 'New york'}\n",
        "del info[\"name\"]\n",
        "info"
      ],
      "metadata": {
        "colab": {
          "base_uri": "https://localhost:8080/"
        },
        "id": "dAFEs7L3HXc9",
        "outputId": "3420484b-01bb-4aab-8ea9-6e6a21381cb5"
      },
      "execution_count": null,
      "outputs": [
        {
          "output_type": "execute_result",
          "data": {
            "text/plain": [
              "{'age': 22, 'city': 'New york'}"
            ]
          },
          "metadata": {},
          "execution_count": 152
        }
      ]
    },
    {
      "cell_type": "code",
      "source": [
        "# 25. Write a code to check if the key \"city\" exists in the dictionary {'name': 'Alice', 'city': 'Paris'}.\n",
        "\n",
        "Info = {'name': 'Alice', 'city': 'Paris'}\n",
        "if \"city\" in Info:\n",
        "    print(\"city exists in dictionary!\")"
      ],
      "metadata": {
        "colab": {
          "base_uri": "https://localhost:8080/"
        },
        "id": "d4il_dAsHXoP",
        "outputId": "31ac7496-15de-4f16-abbb-8805b56bb832"
      },
      "execution_count": null,
      "outputs": [
        {
          "output_type": "stream",
          "name": "stdout",
          "text": [
            "city exists in dictionary!\n"
          ]
        }
      ]
    },
    {
      "cell_type": "code",
      "source": [
        "# 26. Write a code to create a list, a tuple, and a dictionary, and print them all.\n",
        "\n",
        "A = [\"this\", \"is\", \"a\", \"list\"]\n",
        "B = (\"tuple\", \"python\")\n",
        "C = {\"iam\", \"here\", \"dictionary \"}\n",
        "print(A)\n",
        "print(B)\n",
        "print(C)"
      ],
      "metadata": {
        "colab": {
          "base_uri": "https://localhost:8080/"
        },
        "id": "xA9EFxi9HXud",
        "outputId": "54e34f87-0d55-4635-871f-b52ef994bfa4"
      },
      "execution_count": null,
      "outputs": [
        {
          "output_type": "stream",
          "name": "stdout",
          "text": [
            "['this', 'is', 'a', 'list']\n",
            "('tuple', 'python')\n",
            "{'dictionary ', 'here', 'iam'}\n"
          ]
        }
      ]
    },
    {
      "cell_type": "code",
      "source": [
        "\n",
        "# 27. Write a code to create a list of 5 random numbers between 1 and 100, sort it in ascending order, and print the result.\n",
        "\n",
        "Numbers = [ 87, 34, 24, 46, 74]\n",
        "Numbers.sort()\n",
        "print(Numbers)"
      ],
      "metadata": {
        "colab": {
          "base_uri": "https://localhost:8080/"
        },
        "id": "bTQVkKZRHX0F",
        "outputId": "0b14c74c-c638-464a-9f18-0c0b7cdeaa29"
      },
      "execution_count": null,
      "outputs": [
        {
          "output_type": "stream",
          "name": "stdout",
          "text": [
            "[24, 34, 46, 74, 87]\n"
          ]
        }
      ]
    },
    {
      "cell_type": "code",
      "source": [
        "\n",
        "# 28. Write a code to create a list with strings and print the element at the third index.\n",
        "\n",
        "strings = [\"baloon\", \"toy\", \"car\", \"doll\", \"ice\"]\n",
        "print(strings[2])"
      ],
      "metadata": {
        "colab": {
          "base_uri": "https://localhost:8080/"
        },
        "id": "uQq-6t-5HX6F",
        "outputId": "683e98a8-5df9-4d3e-d6c8-c19c2e0a8a40"
      },
      "execution_count": null,
      "outputs": [
        {
          "output_type": "stream",
          "name": "stdout",
          "text": [
            "car\n"
          ]
        }
      ]
    },
    {
      "cell_type": "code",
      "source": [
        "# 29. Write a code to combine two dictionaries into one and print the result.\n",
        "\n",
        "Shelf1 = {\"gaban\": \"premchand\", \"the prophet\": \"khalil jibran\", \"gitanjali\": \"taigore\"}\n",
        "Shelf2 = {\"great gutsby\": \"f scott ftz\", \"rich dad\": \"kawasaki\", \"money\":\" warren\"}\n",
        "Shelf1.update(Shelf2)\n",
        "Shelf1"
      ],
      "metadata": {
        "colab": {
          "base_uri": "https://localhost:8080/"
        },
        "id": "yg_7ija6HX_c",
        "outputId": "0ba15f05-e236-4c84-f644-8c37beddccf8"
      },
      "execution_count": null,
      "outputs": [
        {
          "output_type": "execute_result",
          "data": {
            "text/plain": [
              "{'gaban': 'premchand',\n",
              " 'the prophet': 'khalil jibran',\n",
              " 'gitanjali': 'taigore',\n",
              " 'great gutsby': 'f scott ftz',\n",
              " 'rich dad': 'kawasaki',\n",
              " 'money': ' warren'}"
            ]
          },
          "metadata": {},
          "execution_count": 157
        }
      ]
    },
    {
      "cell_type": "code",
      "source": [
        "# 30. Write a code to convert a list of strings into a set.\n",
        "\n",
        "coffe = [\"cappuccino\", \"Frappuccino\", \"macchiato\", \"americano\"]\n",
        "cafe = set(coffe)\n",
        "type(cafe)"
      ],
      "metadata": {
        "colab": {
          "base_uri": "https://localhost:8080/"
        },
        "id": "hOIFuP0pbENU",
        "outputId": "50aad5e0-6af6-41f3-e212-d50ea7110515"
      },
      "execution_count": 30,
      "outputs": [
        {
          "output_type": "execute_result",
          "data": {
            "text/plain": [
              "set"
            ]
          },
          "metadata": {},
          "execution_count": 30
        }
      ]
    },
    {
      "cell_type": "code",
      "source": [],
      "metadata": {
        "id": "aQjBK0npev1u"
      },
      "execution_count": null,
      "outputs": []
    }
  ]
}